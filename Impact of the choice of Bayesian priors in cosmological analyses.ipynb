{
 "cells": [
  {
   "cell_type": "code",
   "execution_count": null,
   "id": "74b3187a",
   "metadata": {},
   "outputs": [],
   "source": [
    "pip install chainconsumer"
   ]
  },
  {
   "cell_type": "code",
   "execution_count": null,
   "id": "e410cbd3",
   "metadata": {},
   "outputs": [],
   "source": [
    "%matplotlib inline \n",
    "\n",
    "import numpy as np #basic python module used to read files and handle arrays\n",
    "import matplotlib.pyplot as plt #basic python module for plotting figures\n",
    "#from chainconsumer import ChainConsumer #python module to plot the cosmology contours https://samreay.github.io/ChainConsumer/"
   ]
  },
  {
   "cell_type": "code",
   "execution_count": null,
   "id": "60e6cb81",
   "metadata": {},
   "outputs": [],
   "source": [
    "data = np.loadtxt(\"Files/sim_y3maglim3x2_widepriors_hr_boosted.txt\") #Read data\n",
    "print(len(data[0]))\n",
    "print(len(data))  #Check data length"
   ]
  },
  {
   "cell_type": "code",
   "execution_count": null,
   "id": "3754f608",
   "metadata": {},
   "outputs": [],
   "source": [
    "def gaussian_function(x, mean, sigma):\n",
    "    \"\"\"\n",
    "    Compute the value of the Gaussian function at a given x value, with known mean and sigma.\n",
    "\n",
    "    Args:\n",
    "        x (float): The x value to compute the function at.\n",
    "        mean (float): The mean of the Gaussian distribution.\n",
    "        sigma (float): The standard deviation of the Gaussian distribution.\n",
    "\n",
    "    Returns:\n",
    "        float: The value of the Gaussian function at x.\n",
    "    \"\"\"\n",
    "    exponent = -0.5 * ((x - mean) / sigma) ** 2\n",
    "    y = (1 / (sigma * np.sqrt(2 * np.pi))) * np.exp(exponent)\n",
    "    return y\n",
    "\n",
    "def uniform(x,max,min):\n",
    "    \"\"\"\n",
    "    Compute the value of the prior for a normalized uniform prior limits, with known input value and limits\n",
    "    \n",
    "    Args:\n",
    "        x (float): The input value for the prior\n",
    "        max (float): The maximum value of the limit\n",
    "        min (float): The minimum value of the limit\n",
    "        \n",
    "    Returns:\n",
    "        float: The height of the top hat box, if x is within the limits. 0 if x is outside.\n",
    "    \"\"\"\n",
    "    if min < x and x < max:\n",
    "        return (1/(max-min))\n",
    "    else:\n",
    "        return 0\n",
    "# Priors limits used here are from the input chain, which used limits three times wider than the fiducial limits\n",
    "def importance_sampling(data_selected):\n",
    "    omega_m = uniform(data_selected[2],0.9,0.1) #Uniform\n",
    "    h0 = uniform(data_selected[3],1.11,0.35)\n",
    "    omega_b = uniform(data_selected[4],0.09,0.01)\n",
    "    n_s = uniform(data_selected[5],1.17,0.77)\n",
    "    a_s = uniform(data_selected[6],9.1e-09,0.1e-09)\n",
    "    mnu = uniform(data_selected[7],1.2,0.01)\n",
    "    m1 = (gaussian_function(data_selected[8],-0.0063,0.0273)) #Gaussian\n",
    "    m2 = (gaussian_function(data_selected[9],-0.0198,0.0234))\n",
    "    m3 = (gaussian_function(data_selected[10],-0.0241,0.0228))\n",
    "    m4 = (gaussian_function(data_selected[11],-0.0369,0.0228))\n",
    "    wl_bias_1 = (gaussian_function(data_selected[12],0,0.054))\n",
    "    wl_bias_2 = (gaussian_function(data_selected[13],0,0.045))\n",
    "    wl_bias_3 = (gaussian_function(data_selected[14],0,0.033))\n",
    "    wl_bias_4 = (gaussian_function(data_selected[15],0,0.051))\n",
    "    lens_bias_1 = (gaussian_function(data_selected[16],-0.009,0.021))\n",
    "    lens_bias_2 = (gaussian_function(data_selected[17],-0.035,0.033))\n",
    "    lens_bias_3 = (gaussian_function(data_selected[18],-0.005,0.018))\n",
    "    lens_bias_4 = (gaussian_function(data_selected[19],-0.007,0.018))\n",
    "    lens_width_1 =(gaussian_function(data_selected[20],0.975,0.186))\n",
    "    lens_width_2 = (gaussian_function(data_selected[21],1.306,0.279))\n",
    "    lens_width_3 = (gaussian_function(data_selected[22],0.87,0.162))\n",
    "    lens_width_4 = (gaussian_function(data_selected[23],0.918,0.153))\n",
    "    b1 = uniform(data_selected[24],4,0.1) #Uniform\n",
    "    b2 = uniform(data_selected[25],4,0.1)\n",
    "    b3 = uniform(data_selected[26],4,0.1)\n",
    "    b4 = uniform(data_selected[27],4,0.1)\n",
    "    a1 = uniform(data_selected[28],10,-10)\n",
    "    a2 = uniform(data_selected[29],10,-10)\n",
    "    alpha1 = uniform(data_selected[30],10,-10)\n",
    "    alpha2 = uniform(data_selected[31],10,-10)\n",
    "    bias_ta = uniform(data_selected[32],4,0)\n",
    "    # The returned value is the product of all prior elements\n",
    "    return (omega_m*h0*omega_b*n_s*a_s*mnu*m1*m2*m3*m4*wl_bias_1*wl_bias_2\n",
    "            *wl_bias_3*wl_bias_4*lens_bias_1*lens_bias_2*lens_bias_3*\n",
    "            lens_bias_4*lens_width_1*lens_width_2*lens_width_3*lens_width_4\n",
    "            *b1*b2*b3*b4*a1*a2*alpha1*alpha2*bias_ta)\n"
   ]
  },
  {
   "cell_type": "code",
   "execution_count": null,
   "id": "f7acda60",
   "metadata": {},
   "outputs": [],
   "source": [
    "prior_old = np.zeros(len(data))\n",
    "weight_old = np.zeros(len(data))\n",
    "for i in range(len(data)):\n",
    "    prior_old[i]=(importance_sampling(data[i]))  # Old priors are calculated using the defined function\n",
    "    weight_old[i]=data[i][0]                     # Old weights are taken from the input data\n",
    "print(np.log(prior_old))\n",
    "print(weight_old)"
   ]
  },
  {
   "cell_type": "code",
   "execution_count": null,
   "id": "e7bfa01a",
   "metadata": {},
   "outputs": [],
   "source": [
    "# Here using the importance sampling with new limits\n",
    "def importance_sampling_new(data_selected):\n",
    "    omega_m = uniform(data_selected[2],0.9,0.1) #Uniform\n",
    "    h0 = uniform(data_selected[3],0.91,0.55)\n",
    "    omega_b = uniform(data_selected[4],0.07,0.03)\n",
    "    n_s = uniform(data_selected[5],1.07,0.87)\n",
    "    a_s = uniform(data_selected[6],5.0e-09,0.5e-09)\n",
    "    mnu = uniform(data_selected[7],0.6,0.06)\n",
    "    m1 = (gaussian_function(data_selected[8],-0.0063,0.0091)) #Gaussian\n",
    "    m2 = (gaussian_function(data_selected[9],-0.0198,0.0078))\n",
    "    m3 = (gaussian_function(data_selected[10],-0.0241,0.0076))\n",
    "    m4 = (gaussian_function(data_selected[11],-0.0369,0.0076))\n",
    "    wl_bias_1 = (gaussian_function(data_selected[12],0,0.018))\n",
    "    wl_bias_2 = (gaussian_function(data_selected[13],0,0.015))\n",
    "    wl_bias_3 = (gaussian_function(data_selected[14],0,0.011))\n",
    "    wl_bias_4 = (gaussian_function(data_selected[15],0,0.017))\n",
    "    lens_bias_1 = (gaussian_function(data_selected[16],-0.009,0.007))\n",
    "    lens_bias_2 = (gaussian_function(data_selected[17],-0.035,0.011))\n",
    "    lens_bias_3 = (gaussian_function(data_selected[18],-0.005,0.006))\n",
    "    lens_bias_4 = (gaussian_function(data_selected[19],-0.007,0.006))\n",
    "    lens_width_1 = (gaussian_function(data_selected[20],0.975,0.062))\n",
    "    lens_width_2 = (gaussian_function(data_selected[21],1.306,0.093))\n",
    "    lens_width_3 = (gaussian_function(data_selected[22],0.87,0.054))\n",
    "    lens_width_4 = (gaussian_function(data_selected[23],0.918,0.051))\n",
    "    b1 = uniform(data_selected[24],3,0.8) #Uniform\n",
    "    b2 = uniform(data_selected[25],3,0.8)\n",
    "    b3 = uniform(data_selected[26],3,0.8)\n",
    "    b4 = uniform(data_selected[27],3,0.8)\n",
    "    a1 = uniform(data_selected[28],5,-5)\n",
    "    a2 = uniform(data_selected[29],5,-5)\n",
    "    alpha1 = uniform(data_selected[30],5,-5)\n",
    "    alpha2 = uniform(data_selected[31],5,-5)\n",
    "    bias_ta = uniform(data_selected[32],2,0)\n",
    "    return (omega_m*h0*omega_b*n_s*a_s*mnu*m1*m2*m3*m4*wl_bias_1*wl_bias_2\n",
    "            *wl_bias_3*wl_bias_4*lens_bias_1*lens_bias_2*lens_bias_3*\n",
    "            lens_bias_4*lens_width_1*lens_width_2*lens_width_3*lens_width_4\n",
    "            *b1*b2*b3*b4*a1*a2*alpha1*alpha2*bias_ta)"
   ]
  },
  {
   "cell_type": "code",
   "execution_count": null,
   "id": "5be729b0",
   "metadata": {},
   "outputs": [],
   "source": [
    "prior_new = np.zeros(len(data))\n",
    "for i in range(len(data)):\n",
    "    prior_new[i]=(importance_sampling_new(data[i]))  # Calculate the new priors"
   ]
  },
  {
   "cell_type": "code",
   "execution_count": null,
   "id": "563be3d9",
   "metadata": {},
   "outputs": [],
   "source": [
    "weight_new=weight_old*(prior_new/prior_old)          # Calculate the new weights from old weights, old priors and new priors\n",
    "\n"
   ]
  },
  {
   "cell_type": "code",
   "execution_count": null,
   "id": "c68508f3",
   "metadata": {},
   "outputs": [],
   "source": [
    "plt.plot(weight_new)"
   ]
  },
  {
   "cell_type": "code",
   "execution_count": null,
   "id": "8bce458c",
   "metadata": {},
   "outputs": [],
   "source": [
    "def gaussian_function_new(x, mean, sigma):\n",
    "    \"\"\"\n",
    "    Compute the value of the Gaussian function at a given x value, with known mean and twice the input sigma.\n",
    "\n",
    "    Args:\n",
    "        x (float): The x value to compute the function at.\n",
    "        mean (float): The mean of the Gaussian distribution.\n",
    "        sigma (float): The standard deviation of the Gaussian distribution.\n",
    "\n",
    "    Returns:\n",
    "        float: The value of the Gaussian function at x with twice the input sigma.\n",
    "    \"\"\"\n",
    "    exponent = -0.5 * ((x - mean) / (2*sigma)) ** 2\n",
    "    y = (1 / (2*sigma * np.sqrt(2 * np.pi))) * np.exp(exponent)\n",
    "    return y\n",
    "\n",
    "def uniform_new(x,max,min):\n",
    "    \"\"\"\n",
    "    Compute the value of the prior for a normalized uniform prior limits, with known input value and twice the input limits\n",
    "    \n",
    "    Args:\n",
    "        x (float): The input value for the prior\n",
    "        max (float): The maximum value of the limit\n",
    "        min (float): The minimum value of the limit\n",
    "        \n",
    "    Returns:\n",
    "        float: The height of the top hat box which twice the input width, if x is within the limits. 0 if x is outside.\n",
    "    \"\"\"\n",
    "    max_new = max + (max - min)/2\n",
    "    min_new = min - (max - min)/2\n",
    "    if min_new < x and x < max_new:\n",
    "        return (1/(max_new-min_new))\n",
    "    else:\n",
    "        return 0\n",
    "def importance_sampling_new_x2(data_selected):\n",
    "    omega_m = uniform(data_selected[2],0.9,0.1) #Uniform\n",
    "    h0 = uniform_new(data_selected[3],0.91,0.55)\n",
    "    omega_b = uniform_new(data_selected[4],0.07,0.03)\n",
    "    n_s = uniform_new(data_selected[5],1.07,0.87)\n",
    "    a_s = uniform_new(data_selected[6],5.0e-09,0.5e-09)\n",
    "    mnu = uniform_new(data_selected[7],0.6,0.06)\n",
    "    m1 = (gaussian_function_new(data_selected[8],-0.0063,0.0091)) #Gaussian\n",
    "    m2 = (gaussian_function_new(data_selected[9],-0.0198,0.0078))\n",
    "    m3 = (gaussian_function_new(data_selected[10],-0.0241,0.0076))\n",
    "    m4 = (gaussian_function_new(data_selected[11],-0.0369,0.0076))\n",
    "    wl_bias_1 = (gaussian_function_new(data_selected[12],0,0.018))\n",
    "    wl_bias_2 = (gaussian_function_new(data_selected[13],0,0.015))\n",
    "    wl_bias_3 = (gaussian_function_new(data_selected[14],0,0.011))\n",
    "    wl_bias_4 = (gaussian_function_new(data_selected[15],0,0.017))\n",
    "    lens_bias_1 = (gaussian_function_new(data_selected[16],-0.009,0.007))\n",
    "    lens_bias_2 = (gaussian_function_new(data_selected[17],-0.035,0.011))\n",
    "    lens_bias_3 = (gaussian_function_new(data_selected[18],-0.005,0.006))\n",
    "    lens_bias_4 = (gaussian_function_new(data_selected[19],-0.007,0.006))\n",
    "    lens_width_1 = (gaussian_function_new(data_selected[20],0.975,0.062))\n",
    "    lens_width_2 = (gaussian_function_new(data_selected[21],1.306,0.093))\n",
    "    lens_width_3 = (gaussian_function_new(data_selected[22],0.87,0.054))\n",
    "    lens_width_4 = (gaussian_function_new(data_selected[23],0.918,0.051))\n",
    "    b1 = uniform_new(data_selected[24],3,0.8) #Uniform\n",
    "    b2 = uniform_new(data_selected[25],3,0.8)\n",
    "    b3 = uniform_new(data_selected[26],3,0.8)\n",
    "    b4 = uniform_new(data_selected[27],3,0.8)\n",
    "    a1 = uniform_new(data_selected[28],5,-5)\n",
    "    a2 = uniform_new(data_selected[29],5,-5)\n",
    "    alpha1 = uniform_new(data_selected[30],5,-5)\n",
    "    alpha2 = uniform_new(data_selected[31],5,-5)\n",
    "    bias_ta = uniform_new(data_selected[32],2,0)\n",
    "    weight = data_selected[0]\n",
    "    return (omega_m*h0*omega_b*n_s*a_s*mnu*m1*m2*m3*m4*wl_bias_1*wl_bias_2\n",
    "            *wl_bias_3*wl_bias_4*lens_bias_1*lens_bias_2*lens_bias_3*\n",
    "            lens_bias_4*lens_width_1*lens_width_2*lens_width_3*lens_width_4\n",
    "            *b1*b2*b3*b4*a1*a2*alpha1*alpha2*bias_ta)"
   ]
  },
  {
   "cell_type": "code",
   "execution_count": null,
   "id": "5a2f8238",
   "metadata": {},
   "outputs": [],
   "source": [
    "prior_new_x2 = np.zeros(len(data))\n",
    "for i in range(len(data)):\n",
    "    prior_new_x2[i]=(importance_sampling_new_x2(data[i]))       # Calculate the new priors under twice width condition"
   ]
  },
  {
   "cell_type": "code",
   "execution_count": null,
   "id": "d817e45f",
   "metadata": {},
   "outputs": [],
   "source": [
    "weight_new_x2=weight_old*(prior_new_x2/prior_old)              # Calculate the new weights"
   ]
  },
  {
   "cell_type": "code",
   "execution_count": null,
   "id": "9f4ba866",
   "metadata": {},
   "outputs": [],
   "source": [
    "plt.plot(weight_new_x2)"
   ]
  },
  {
   "cell_type": "code",
   "execution_count": null,
   "id": "54ed33ab",
   "metadata": {},
   "outputs": [],
   "source": [
    "def gaussian_to_uniform(x,mean,sigma):\n",
    "    \"\"\"\n",
    "    Compute the value of the prior for a normalized uniform prior limits, with known input value and means, using twice sigma value as \n",
    "    the width\n",
    "    \n",
    "    Args:\n",
    "        x (float): The input value for the prior\n",
    "        mean (float): The mean value of the limits\n",
    "        sigma (float): Used as a half of the width\n",
    "    Returns:\n",
    "        float: The height of the top hat box, if x is within the limits. 0 if x is outside.\n",
    "    \"\"\"\n",
    "    if mean+sigma >= x and x >= mean-sigma:\n",
    "        return 1 / (2*sigma)\n",
    "    else:\n",
    "        return 0\n",
    "# Define a function to change all gaussian priors to uniform priors\n",
    "# Change the commented lines to control priors that are changed\n",
    "def importance_sampling_new_gtu(data_selected):\n",
    "    omega_m = uniform(data_selected[2],0.9,0.1) #Uniform\n",
    "    h0 = uniform_new(data_selected[3],0.91,0.55)\n",
    "    omega_b = uniform_new(data_selected[4],0.07,0.03)\n",
    "    n_s = uniform_new(data_selected[5],1.07,0.87)\n",
    "    a_s = uniform_new(data_selected[6],5.0e-09,0.5e-09)\n",
    "    mnu = uniform_new(data_selected[7],0.6,0.06)\n",
    "    m1 = (gaussian_to_uniform(data_selected[8],-0.0063,0.0091)) #Gaussian\n",
    "    #m1 = uniform_new(data_selected[8],0.0028,-0.0154)\n",
    "    m2 = (gaussian_to_uniform(data_selected[9],-0.0198,0.0078))\n",
    "    #m2 = uniform_new(data_selected[9],-0.012,-0.0276)\n",
    "    m3 = (gaussian_to_uniform(data_selected[10],-0.0241,0.0076))\n",
    "    #m3 = uniform_new(data_selected[10],-0.0165,-0.0317)\n",
    "    m4 = (gaussian_to_uniform(data_selected[11],-0.0369,0.0076))\n",
    "    #m4 = uniform_new(data_selected[11],-0.0293,-0.0445)\n",
    "    #wl_bias_1 = (gaussian_to_uniform(data_selected[12],0,0.018))\n",
    "    wl_bias_1 = uniform_new(data_selected[12],0.018,-0.018)\n",
    "    #wl_bias_2 = (gaussian_to_uniform(data_selected[13],0,0.015))\n",
    "    wl_bias_2 = uniform_new(data_selected[13],0.015,-0.015)\n",
    "    #wl_bias_3 = (gaussian_to_uniform(data_selected[14],0,0.011))\n",
    "    wl_bias_3 = uniform_new(data_selected[14],0.011,-0.011)\n",
    "    #wl_bias_4 = (gaussian_to_uniform(data_selected[15],0,0.017))\n",
    "    wl_bias_4 = uniform_new(data_selected[15],0.017,-0.017)\n",
    "    #lens_bias_1 = (gaussian_to_uniform(data_selected[16],-0.009,0.007))\n",
    "    lens_bias_1 = uniform_new(data_selected[16],-0.002,0.016)\n",
    "    #lens_bias_2 = (gaussian_to_uniform(data_selected[17],-0.035,0.011))\n",
    "    lens_bias_2 = uniform_new(data_selected[17],-0.024,-0.046)\n",
    "    #lens_bias_3 = (gaussian_to_uniform(data_selected[18],-0.005,0.006))\n",
    "    lens_bias_3 = uniform_new(data_selected[18],0.001,-0.011)\n",
    "    #lens_bias_4 = (gaussian_to_uniform(data_selected[19],-0.007,0.006))\n",
    "    lens_bias_4 = uniform_new(data_selected[19],-0.001,-0.013)\n",
    "    #lens_width_1 = (gaussian_to_uniform(data_selected[20],0.975,0.062))\n",
    "    lens_width_1 = uniform_new(data_selected[20],1.037,0.913)\n",
    "    #lens_width_2 = (gaussian_to_uniform(data_selected[21],1.306,0.093))\n",
    "    lens_width_2 = uniform_new(data_selected[21],1.399,1.213)\n",
    "    #lens_width_3 = (gaussian_to_uniform(data_selected[22],0.87,0.054))\n",
    "    lens_width_3 = uniform_new(data_selected[22],0.924,0.816)\n",
    "    #lens_width_4 = (gaussian_to_uniform(data_selected[23],0.918,0.051))\n",
    "    lens_width_4 = uniform_new(data_selected[23],0.969,0.867)\n",
    "    b1 = uniform_new(data_selected[24],3,0.8) #Uniform\n",
    "    b2 = uniform_new(data_selected[25],3,0.8)\n",
    "    b3 = uniform_new(data_selected[26],3,0.8)\n",
    "    b4 = uniform_new(data_selected[27],3,0.8)\n",
    "    a1 = uniform_new(data_selected[28],5,-5)\n",
    "    a2 = uniform_new(data_selected[29],5,-5)\n",
    "    alpha1 = uniform_new(data_selected[30],5,-5)\n",
    "    alpha2 = uniform_new(data_selected[31],5,-5)\n",
    "    bias_ta = uniform_new(data_selected[32],2,0)\n",
    "    return (omega_m*h0*omega_b*n_s*a_s*mnu*m1*m2*m3*m4*wl_bias_1*wl_bias_2\n",
    "            *wl_bias_3*wl_bias_4*lens_bias_1*lens_bias_2*lens_bias_3*\n",
    "            lens_bias_4*lens_width_1*lens_width_2*lens_width_3*lens_width_4\n",
    "            *b1*b2*b3*b4*a1*a2*alpha1*alpha2*bias_ta)"
   ]
  },
  {
   "cell_type": "code",
   "execution_count": null,
   "id": "64947198",
   "metadata": {},
   "outputs": [],
   "source": [
    "prior_new_gtu = np.zeros(len(data))\n",
    "for i in range(len(data)):\n",
    "    prior_new_gtu[i]=(importance_sampling_new_gtu(data[i]))         # Calculate new priors"
   ]
  },
  {
   "cell_type": "code",
   "execution_count": null,
   "id": "447950f3",
   "metadata": {},
   "outputs": [],
   "source": [
    "weight_new_gtu=weight_old*(prior_new_gtu/prior_old)                 # Calculate new weights\n",
    "plt.plot(weight_new_gtu)"
   ]
  },
  {
   "cell_type": "code",
   "execution_count": null,
   "id": "2ca77f8b",
   "metadata": {},
   "outputs": [],
   "source": [
    "def uniform_to_gaussian(x,max,min):\n",
    "    \"\"\"\n",
    "    Compute the value of the prior for a normalized uniform prior limits, with known input value, mean and using half\n",
    "    of the uniform width as sigma\n",
    "    \n",
    "    Args:\n",
    "        x (float): The input value for the prior\n",
    "        max (float): The maximum value of the limit\n",
    "        min (float): The minimum value of the limit\n",
    "        \n",
    "    Returns:\n",
    "        float: The value of the Gaussian function with the same mean and sigma as half the width at x.\n",
    "    \"\"\"\n",
    "    mean = (max+min)/2\n",
    "    sigma = max-min\n",
    "    exponent = -0.5 * ((x - mean) / sigma) ** 2\n",
    "    y = (1 / (sigma * np.sqrt(2 * np.pi))) * np.exp(exponent)\n",
    "    return y\n",
    "\n",
    "def importance_sampling_new_utg(data_selected):\n",
    "    omega_m = uniform(data_selected[2],0.9,0.1) #Uniform\n",
    "    h0 = uniform_to_gaussian(data_selected[3],0.91,0.55)\n",
    "    omega_b = uniform_to_gaussian(data_selected[4],0.07,0.03)\n",
    "    n_s = uniform_to_gaussian(data_selected[5],1.07,0.87)\n",
    "    a_s = uniform_to_gaussian(data_selected[6],5.0e-09,0.5e-09)\n",
    "    mnu = uniform_to_gaussian(data_selected[7],0.6,0.06)\n",
    "    m1 = (gaussian_function_new(data_selected[8],-0.0063,0.0091)) #Gaussian\n",
    "    m2 = (gaussian_function_new(data_selected[9],-0.0198,0.0078))\n",
    "    m3 = (gaussian_function_new(data_selected[10],-0.0241,0.0076))\n",
    "    m4 = (gaussian_function_new(data_selected[11],-0.0369,0.0076))\n",
    "    wl_bias_1 = (gaussian_function_new(data_selected[12],0,0.018))\n",
    "    wl_bias_2 = (gaussian_function_new(data_selected[13],0,0.015))\n",
    "    wl_bias_3 = (gaussian_function_new(data_selected[14],0,0.011))\n",
    "    wl_bias_4 = (gaussian_function_new(data_selected[15],0,0.017))\n",
    "    lens_bias_1 = (gaussian_function_new(data_selected[16],-0.009,0.007))\n",
    "    lens_bias_2 = (gaussian_function_new(data_selected[17],-0.035,0.011))\n",
    "    lens_bias_3 = (gaussian_function_new(data_selected[18],-0.005,0.006))\n",
    "    lens_bias_4 = (gaussian_function_new(data_selected[19],-0.007,0.006))\n",
    "    lens_width_1 = (gaussian_function_new(data_selected[20],0.975,0.062))\n",
    "    lens_width_2 = (gaussian_function_new(data_selected[21],1.306,0.093))\n",
    "    lens_width_3 = (gaussian_function_new(data_selected[22],0.87,0.054))\n",
    "    lens_width_4 = (gaussian_function_new(data_selected[23],0.918,0.051))\n",
    "    b1 = uniform_to_gaussian(data_selected[24],3,0.8) #Uniform\n",
    "    b2 = uniform_to_gaussian(data_selected[25],3,0.8)\n",
    "    b3 = uniform_to_gaussian(data_selected[26],3,0.8)\n",
    "    b4 = uniform_to_gaussian(data_selected[27],3,0.8)\n",
    "    a1 = uniform_to_gaussian(data_selected[28],5,-5)\n",
    "    a2 = uniform_to_gaussian(data_selected[29],5,-5)\n",
    "    alpha1 = uniform_to_gaussian(data_selected[30],5,-5)\n",
    "    alpha2 = uniform_to_gaussian(data_selected[31],5,-5)\n",
    "    bias_ta = uniform_to_gaussian(data_selected[32],2,0)\n",
    "    weight = data_selected[0]\n",
    "    return (omega_m*h0*omega_b*n_s*a_s*mnu*m1*m2*m3*m4*wl_bias_1*wl_bias_2\n",
    "            *wl_bias_3*wl_bias_4*lens_bias_1*lens_bias_2*lens_bias_3*\n",
    "            lens_bias_4*lens_width_1*lens_width_2*lens_width_3*lens_width_4\n",
    "            *b1*b2*b3*b4*a1*a2*alpha1*alpha2*bias_ta)"
   ]
  },
  {
   "cell_type": "code",
   "execution_count": null,
   "id": "6fd0a312",
   "metadata": {},
   "outputs": [],
   "source": [
    "prior_new_utg = np.zeros(len(data))\n",
    "for i in range(len(data)):\n",
    "    prior_new_utg[i]=(importance_sampling_new_utg(data[i]))            # Calculate new priors"
   ]
  },
  {
   "cell_type": "code",
   "execution_count": null,
   "id": "d01f8dce",
   "metadata": {},
   "outputs": [],
   "source": [
    "weight_new_utg=weight_old*(prior_new_utg/prior_old)                    # Calculate new weights\n",
    "plt.plot(weight_new_utg)"
   ]
  },
  {
   "cell_type": "code",
   "execution_count": null,
   "id": "83d8e6c1",
   "metadata": {},
   "outputs": [],
   "source": [
    "data_t = data.T          # Transform the input data, so now each line is a sample point "
   ]
  },
  {
   "cell_type": "code",
   "execution_count": null,
   "id": "ad6a904e",
   "metadata": {},
   "outputs": [],
   "source": [
    "omega_m = data_t[2]                         # Record key parameters and original weight\n",
    "sig8 = data_t[33]\n",
    "weight_original = data_t[0]"
   ]
  },
  {
   "cell_type": "code",
   "execution_count": null,
   "id": "e4728d33",
   "metadata": {},
   "outputs": [],
   "source": [
    "plt.plot(sig8)\n",
    "plt.plot(omega_m)"
   ]
  },
  {
   "cell_type": "code",
   "execution_count": null,
   "id": "23152ad7",
   "metadata": {},
   "outputs": [],
   "source": [
    "S_8=sig8*(omega_m/0.3)**0.5                # Calculate the S8 parameter from sigma8 and omega_m"
   ]
  },
  {
   "cell_type": "code",
   "execution_count": null,
   "id": "fe716fcd",
   "metadata": {},
   "outputs": [],
   "source": [
    "from chainconsumer import ChainConsumer\n",
    "c = ChainConsumer() #This initializes the chainconsumer object/figure\n",
    "\n",
    "combined_data = np.vstack((omega_m, sig8))\n",
    "c.add_chain(combined_data.T, weights=weight_original, parameters=[\"$\\Omega_m$\", \"$\\sigma_8$\"] , name='Input Chain') # Sig8 and omegam from input chain\n",
    "c.configure(plot_hists=True,sigma2d=False,kde=1.3, linewidths=1.2, legend_kwargs={\"loc\": \"upper right\", \"fontsize\": 12},\n",
    "            legend_color_text=True, legend_location=(-1, 0),diagonal_tick_labels=False, summary=False)\n",
    "fig = c.plotter.plot(extents=[(0.26,0.5),(0.6,1.0)],legend='t',figsize=\"column\")\n",
    "\n",
    "# Fiducial values for parameters from input chain mid number"
   ]
  },
  {
   "cell_type": "code",
   "execution_count": null,
   "id": "de167fe4",
   "metadata": {},
   "outputs": [],
   "source": [
    "c = ChainConsumer() #This initializes the chainconsumer object/figure\n",
    "\n",
    "combined_data = np.vstack((omega_m, S_8))\n",
    "c.add_chain(combined_data.T, weights=weight_original, parameters=[\"$\\Omega_m$\", \"$S_8$\"] , name='Input Chain') # S8 and omegam from input chain\n",
    "c.configure(plot_hists=True,sigma2d=False,kde=1.3, linewidths=1.2, legend_kwargs={\"loc\": \"upper right\", \"fontsize\": 12},\n",
    "            legend_color_text=True, legend_location=(-1, 0),diagonal_tick_labels=False, summary=False)\n",
    "fig = c.plotter.plot(legend='t',figsize=\"column\")"
   ]
  },
  {
   "cell_type": "code",
   "execution_count": null,
   "id": "a7707820",
   "metadata": {},
   "outputs": [],
   "source": [
    "c = ChainConsumer()\n",
    "\n",
    "combined_data1 = np.vstack((omega_m, sig8))\n",
    "combined_data2 = np.vstack((omega_m, sig8))\n",
    "c.add_chain(combined_data1.T, weights=weight_original, parameters=[\"$\\Omega_m$\", \"$\\sigma_8$\"] , name='Input Chain')\n",
    "c.add_chain(combined_data2.T, weights=weight_new, parameters=[\"$\\Omega_m$\", \"$\\sigma_8$\"] , name='Importance Sampling')\n",
    "c.configure(plot_hists=True,sigma2d=False,kde=1.3, linewidths=1.2, legend_kwargs={\"loc\": \"upper right\", \"fontsize\": 12},\n",
    "            legend_color_text=True, legend_location=(-1, 0),diagonal_tick_labels=False, summary=False)\n",
    "fig = c.plotter.plot(extents=[(0.26,0.5),(0.6,1.0)],legend='t',figsize=\"column\")"
   ]
  },
  {
   "cell_type": "code",
   "execution_count": null,
   "id": "264f85de",
   "metadata": {},
   "outputs": [],
   "source": [
    "c = ChainConsumer() #This initializes the chainconsumer object/figure\n",
    "\n",
    "combined_data1 = np.vstack((omega_m, S_8))\n",
    "combined_data2 = np.vstack((omega_m, S_8))\n",
    "c.add_chain(combined_data1.T, weights=weight_original, parameters=[\"$\\Omega_m$\", \"$S_8$\"] , name='Input Chain')\n",
    "c.add_chain(combined_data2.T, weights=weight_new, parameters=[\"$\\Omega_m$\", \"$S_8$\"] , name='Importance Sampling')\n",
    "c.configure(plot_hists=True,sigma2d=False,kde=1.3, linewidths=1.2, legend_kwargs={\"loc\": \"upper right\", \"fontsize\": 12},\n",
    "            legend_color_text=True, legend_location=(-1, 0),diagonal_tick_labels=False, summary=False)\n",
    "fig = c.plotter.plot(legend='t',figsize=\"column\")"
   ]
  },
  {
   "cell_type": "code",
   "execution_count": null,
   "id": "172b46a2",
   "metadata": {
    "scrolled": false
   },
   "outputs": [],
   "source": [
    "\n",
    "c = ChainConsumer() #This initializes the chainconsumer object/figure\n",
    "\n",
    "combined_data1 = np.vstack((omega_m, sig8))\n",
    "combined_data2 = np.vstack((omega_m, sig8))\n",
    "c.add_chain(combined_data1.T, weights=weight_original, parameters=[\"$\\Omega_m$\", \"$\\sigma_8$\"] , name='Input Chain')\n",
    "c.add_chain(combined_data2.T, weights=weight_new_x2, parameters=[\"$\\Omega_m$\", \"$\\sigma_8$\"] , name='Twice Width')\n",
    "c.configure(plot_hists=True,sigma2d=False,kde=1.3, linewidths=1.2, legend_kwargs={\"loc\": \"upper right\", \"fontsize\": 12},\n",
    "            legend_color_text=True, legend_location=(-1, 0),diagonal_tick_labels=False, summary=False)\n",
    "fig = c.plotter.plot(extents=[(0.26,0.5),(0.6,1.0)],legend='t',figsize=\"column\")"
   ]
  },
  {
   "cell_type": "code",
   "execution_count": null,
   "id": "0c11f132",
   "metadata": {
    "scrolled": false
   },
   "outputs": [],
   "source": [
    "c = ChainConsumer() #This initializes the chainconsumer object/figure\n",
    "\n",
    "combined_data1 = np.vstack((omega_m, S_8))\n",
    "combined_data2 = np.vstack((omega_m, S_8))\n",
    "c.add_chain(combined_data1.T, weights=weight_original, parameters=[\"$\\Omega_m$\", \"$S_8$\"] , name='Input Chain')\n",
    "c.add_chain(combined_data2.T, weights=weight_new_x2, parameters=[\"$\\Omega_m$\", \"$S_8$\"] , name='Twice Width')\n",
    "c.configure(plot_hists=True,sigma2d=False,kde=1.3, linewidths=1.2, legend_kwargs={\"loc\": \"upper right\", \"fontsize\": 12},\n",
    "            legend_color_text=True, legend_location=(-1, 0),diagonal_tick_labels=False, summary=False)\n",
    "fig = c.plotter.plot(legend='t',figsize=\"column\")"
   ]
  },
  {
   "cell_type": "code",
   "execution_count": null,
   "id": "9c4af3d3",
   "metadata": {},
   "outputs": [],
   "source": [
    "import numpy as np\n",
    "from chainconsumer import ChainConsumer\n",
    "data1 = sig8\n",
    "params = [\"$\\sigma_{8}$\"]\n",
    "c = ChainConsumer().add_chain(data1, parameters=params,weights=weight_new_utg)\n",
    "fig = c.plotter.plot_distributions()\n",
    "fig.set_size_inches(3 + fig.get_size_inches())\n",
    "#fig.savefig('S8.png', bbox_inches=\"tight\", dpi=300, transparent=True, pad_inches=0.05)"
   ]
  },
  {
   "cell_type": "code",
   "execution_count": null,
   "id": "981bbe6e",
   "metadata": {},
   "outputs": [],
   "source": [
    "data2 = omega_m\n",
    "params = [\"$\\Omega_{m}$\"]\n",
    "c = ChainConsumer().add_chain(data2, parameters=params,weights=weight_new_utg)\n",
    "fig = c.plotter.plot_distributions()\n",
    "fig.set_size_inches(3 + fig.get_size_inches())"
   ]
  },
  {
   "cell_type": "code",
   "execution_count": null,
   "id": "7e529de6",
   "metadata": {},
   "outputs": [],
   "source": [
    "data3 = S_8\n",
    "params = [\"$S_{8}$\"]\n",
    "c = ChainConsumer().add_chain(data3, parameters=params,weights=weight_new_utg)\n",
    "fig = c.plotter.plot_distributions()\n",
    "fig.set_size_inches(3 + fig.get_size_inches())"
   ]
  },
  {
   "cell_type": "code",
   "execution_count": null,
   "id": "929acf51",
   "metadata": {},
   "outputs": [],
   "source": [
    "c = ChainConsumer() #This initializes the chainconsumer object/figure\n",
    "\n",
    "combined_data1 = np.vstack((omega_m, sig8))\n",
    "combined_data2 = np.vstack((omega_m, sig8))\n",
    "c.add_chain(combined_data1.T, weights=weight_original, parameters=[\"$\\Omega_m$\", \"$\\sigma_8$\"] , name='Input Chain')\n",
    "c.add_chain(combined_data2.T, weights=weight_new_utg, parameters=[\"$\\Omega_m$\", \"$\\sigma_8$\"] , name='Uniform to Gaussian')\n",
    "c.configure(plot_hists=True,sigma2d=False,kde=1.3, linewidths=1.2, legend_kwargs={\"loc\": \"upper right\", \"fontsize\": 12},\n",
    "            legend_color_text=True, legend_location=(-1, 0),diagonal_tick_labels=False, summary=False)\n",
    "fig = c.plotter.plot(extents=[(0.26,0.5),(0.6,1.0)],legend='t',figsize=\"column\")"
   ]
  },
  {
   "cell_type": "code",
   "execution_count": null,
   "id": "09ab930a",
   "metadata": {},
   "outputs": [],
   "source": [
    "c = ChainConsumer() #This initializes the chainconsumer object/figure\n",
    "\n",
    "combined_data1 = np.vstack((omega_m, S_8))\n",
    "combined_data2 = np.vstack((omega_m, S_8))\n",
    "c.add_chain(combined_data1.T, weights=weight_original, parameters=[\"$\\Omega_m$\", \"$S_8$\"] , name='Input Chain')\n",
    "c.add_chain(combined_data2.T, weights=weight_new_utg, parameters=[\"$\\Omega_m$\", \"$S_8$\"] , name='Uniform to Gaussian')\n",
    "c.configure(plot_hists=True,sigma2d=False,kde=1.3, linewidths=1.2, legend_kwargs={\"loc\": \"upper right\", \"fontsize\": 12},\n",
    "            legend_color_text=True, legend_location=(-1, 0),diagonal_tick_labels=False, summary=False)\n",
    "fig = c.plotter.plot(legend='t',figsize=\"column\")"
   ]
  },
  {
   "cell_type": "code",
   "execution_count": null,
   "id": "6ff52853",
   "metadata": {},
   "outputs": [],
   "source": [
    "c = ChainConsumer() #This initializes the chainconsumer object/figure\n",
    "\n",
    "combined_data1 = np.vstack((omega_m, sig8))\n",
    "combined_data2 = np.vstack((omega_m, sig8))\n",
    "c.add_chain(combined_data1.T, weights=weight_new_x2, parameters=[\"$\\Omega_m$\", \"$\\sigma_8$\"] , name='Twice Width')\n",
    "c.add_chain(combined_data2.T, weights=weight_new_utg, parameters=[\"$\\Omega_m$\", \"$\\sigma_8$\"] , name='Uniform to Gaussian')\n",
    "c.configure(plot_hists=True,sigma2d=False,kde=1.3, linewidths=1.2, legend_kwargs={\"loc\": \"upper right\", \"fontsize\": 12},\n",
    "            legend_color_text=True, legend_location=(-1, 0),diagonal_tick_labels=False, summary=False)\n",
    "fig = c.plotter.plot(extents=[(0.26,0.5),(0.6,1.0)],legend='t',figsize=\"column\")"
   ]
  },
  {
   "cell_type": "code",
   "execution_count": null,
   "id": "ea38c356",
   "metadata": {},
   "outputs": [],
   "source": [
    "c = ChainConsumer() #This initializes the chainconsumer object/figure\n",
    "\n",
    "combined_data1 = np.vstack((omega_m, S_8))\n",
    "combined_data2 = np.vstack((omega_m, S_8))\n",
    "c.add_chain(combined_data1.T, weights=weight_new_x2, parameters=[\"$\\Omega_m$\", \"$S_8$\"] , name='Twice Width')\n",
    "c.add_chain(combined_data2.T, weights=weight_new_utg, parameters=[\"$\\Omega_m$\", \"$S_8$\"] , name='Uniform to Gaussian')\n",
    "c.configure(plot_hists=True,sigma2d=False,kde=1.3, linewidths=1.2, legend_kwargs={\"loc\": \"upper right\", \"fontsize\": 12},\n",
    "            legend_color_text=True, legend_location=(-1, 0),diagonal_tick_labels=False, summary=False)\n",
    "fig = c.plotter.plot(legend='t',figsize=\"column\")"
   ]
  },
  {
   "cell_type": "code",
   "execution_count": null,
   "id": "868949f6",
   "metadata": {},
   "outputs": [],
   "source": []
  }
 ],
 "metadata": {
  "kernelspec": {
   "display_name": "Python 3 (ipykernel)",
   "language": "python",
   "name": "python3"
  },
  "language_info": {
   "codemirror_mode": {
    "name": "ipython",
    "version": 3
   },
   "file_extension": ".py",
   "mimetype": "text/x-python",
   "name": "python",
   "nbconvert_exporter": "python",
   "pygments_lexer": "ipython3",
   "version": "3.9.13"
  }
 },
 "nbformat": 4,
 "nbformat_minor": 5
}
